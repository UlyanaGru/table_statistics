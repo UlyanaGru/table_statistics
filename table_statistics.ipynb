{
 "cells": [
  {
   "cell_type": "code",
   "execution_count": null,
   "id": "cfe4d252",
   "metadata": {},
   "outputs": [],
   "source": [
    "# Используемые библиотеки\n",
    "import yaml\n",
    "import csv\n",
    "from collections import defaultdict\n",
    "import os"
   ]
  },
  {
   "cell_type": "code",
   "execution_count": null,
   "id": "1bf4178c",
   "metadata": {},
   "outputs": [],
   "source": [
    "# Считывание наождения в директории\n",
    "file_path_yaml = os.getenv(\"file_path_yaml\")\n",
    "file_path_csv = os.getenv(\"file_path_csv\")"
   ]
  },
  {
   "cell_type": "code",
   "execution_count": null,
   "id": "97c9231a",
   "metadata": {},
   "outputs": [],
   "source": [
    "def load_yaml(file_path):\n",
    "    '''Функция для чтения .yaml'''\n",
    "    with open(file_path, 'r') as file:\n",
    "        return yaml.safe_load(file)"
   ]
  },
  {
   "cell_type": "code",
   "execution_count": null,
   "id": "99d68a9b",
   "metadata": {},
   "outputs": [],
   "source": [
    "def load_logs(file_path):\n",
    "    '''Функция для чтения .csv'''\n",
    "    logs = []\n",
    "    with open(file_path, 'r') as file:\n",
    "        reader = csv.DictReader(file)\n",
    "        for row in reader:\n",
    "            logs.append(row['node_id'])\n",
    "    return logs"
   ]
  },
  {
   "cell_type": "code",
   "execution_count": 13,
   "id": "662a2b84",
   "metadata": {},
   "outputs": [],
   "source": [
    "def find_statistics_nodes(folders):\n",
    "    statistics_nodes = set()\n",
    "    def traverse(node):\n",
    "        if 'link' in node:\n",
    "            return\n",
    "        if node.get('name') == 'statistics':\n",
    "            statistics_nodes.add(node)\n",
    "            return\n",
    "        for key, child in node.get('values', {}).items():\n",
    "            traverse(child)\n",
    "    for key, node in folders.items():\n",
    "        traverse(node)\n",
    "    return statistics_nodes"
   ]
  },
  {
   "cell_type": "code",
   "execution_count": null,
   "id": "48b5f454",
   "metadata": {},
   "outputs": [],
   "source": []
  }
 ],
 "metadata": {
  "kernelspec": {
   "display_name": "Python 3",
   "language": "python",
   "name": "python3"
  },
  "language_info": {
   "codemirror_mode": {
    "name": "ipython",
    "version": 3
   },
   "file_extension": ".py",
   "mimetype": "text/x-python",
   "name": "python",
   "nbconvert_exporter": "python",
   "pygments_lexer": "ipython3",
   "version": "3.12.4"
  }
 },
 "nbformat": 4,
 "nbformat_minor": 5
}
