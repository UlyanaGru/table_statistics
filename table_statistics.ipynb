{
 "cells": [
  {
   "cell_type": "code",
   "execution_count": 1,
   "id": "cfe4d252",
   "metadata": {},
   "outputs": [],
   "source": [
    "import yaml\n",
    "import csv\n",
    "from collections import defaultdict"
   ]
  },
  {
   "cell_type": "code",
   "execution_count": null,
   "id": "1bf4178c",
   "metadata": {},
   "outputs": [],
   "source": [
    "file_path_yaml = r'd:\\CodeRun\\table_statistics\\data\\sample.yaml'\n",
    "file_path_csv = r'd:\\CodeRun\\table_statistics\\data\\logs.csv'"
   ]
  },
  {
   "cell_type": "code",
   "execution_count": 4,
   "id": "97c9231a",
   "metadata": {},
   "outputs": [],
   "source": [
    "def load_yaml(file_path):\n",
    "    with open(file_path, 'r') as file:\n",
    "        return yaml.safe_load(file)"
   ]
  },
  {
   "cell_type": "code",
   "execution_count": 7,
   "id": "99d68a9b",
   "metadata": {},
   "outputs": [],
   "source": [
    "def load_logs(file_path):\n",
    "    logs = []\n",
    "    with open(file_path, 'r') as file:\n",
    "        reader = csv.DictReader(file)\n",
    "        for row in reader:\n",
    "            logs.append(row['node_id'])\n",
    "    return logs"
   ]
  },
  {
   "cell_type": "code",
   "execution_count": null,
   "id": "662a2b84",
   "metadata": {},
   "outputs": [],
   "source": [
    "def find_statistics_nodes(folders):\n",
    "    statistics_nodes = set()\n",
    "    def traverse(node):\n",
    "        if 'link' in node:\n",
    "            return\n",
    "        if node.get('name') == 'statistics':\n",
    "            statistics_nodes.add(node)\n",
    "            return\n",
    "        for key, child in node.get('values', {}).items():\n",
    "            traverse(child)\n",
    "    for key, node in folders.items():\n",
    "        traverse(node)\n",
    "    return statistics_nodes"
   ]
  }
 ],
 "metadata": {
  "kernelspec": {
   "display_name": "Python 3",
   "language": "python",
   "name": "python3"
  },
  "language_info": {
   "codemirror_mode": {
    "name": "ipython",
    "version": 3
   },
   "file_extension": ".py",
   "mimetype": "text/x-python",
   "name": "python",
   "nbconvert_exporter": "python",
   "pygments_lexer": "ipython3",
   "version": "3.12.4"
  }
 },
 "nbformat": 4,
 "nbformat_minor": 5
}
