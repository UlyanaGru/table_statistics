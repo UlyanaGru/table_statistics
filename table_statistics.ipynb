{
 "cells": [
  {
   "cell_type": "code",
   "execution_count": 1,
   "id": "cfe4d252",
   "metadata": {},
   "outputs": [],
   "source": [
    "# Используемые библиотеки\n",
    "import yaml\n",
    "import csv\n",
    "from collections import defaultdict\n",
    "import os"
   ]
  },
  {
   "cell_type": "code",
   "execution_count": null,
   "id": "1bf4178c",
   "metadata": {},
   "outputs": [],
   "source": [
    "# Считывание нахождения в директории\n",
    "file_path_yaml = os.getenv(\"file_path_yaml\")\n",
    "file_path_csv = os.getenv(\"file_path_csv\")"
   ]
  },
  {
   "cell_type": "code",
   "execution_count": 3,
   "id": "97c9231a",
   "metadata": {},
   "outputs": [],
   "source": [
    "def load_yaml(file_path):\n",
    "    '''Функция для чтения .yaml'''\n",
    "    with open(file_path, 'r') as file:\n",
    "        return yaml.safe_load(file)"
   ]
  },
  {
   "cell_type": "code",
   "execution_count": 4,
   "id": "99d68a9b",
   "metadata": {},
   "outputs": [],
   "source": [
    "def load_logs(file_path):\n",
    "    '''Функция для чтения .csv'''\n",
    "    logs = []\n",
    "    with open(file_path, 'r') as file:\n",
    "        reader = csv.DictReader(file)\n",
    "        for row in reader:\n",
    "            logs.append(row['node_id'])\n",
    "    return logs"
   ]
  },
  {
   "cell_type": "code",
   "execution_count": null,
   "id": "662a2b84",
   "metadata": {},
   "outputs": [],
   "source": [
    "def find_statistics_nodes(folders):\n",
    "    '''Функция для поиска по узлу'''\n",
    "    #Мноежство для хранения результатов\n",
    "    statistics_nodes = set()\n",
    "    #Функция для проверки текущей ссылки на link\n",
    "    def traverse(node):\n",
    "        if 'link' in node:\n",
    "            return\n",
    "        if node.get('name') == 'statistics':\n",
    "            statistics_nodes.add(node)\n",
    "            return\n",
    "        #Рекурсивный обход дочерних узлов\n",
    "        for key, child in node.get('values', {}).items():\n",
    "            traverse(child)\n",
    "    #Рекурсивный обход узлов\n",
    "    for key, node in folders.items():\n",
    "        traverse(node)\n",
    "    return statistics_nodes"
   ]
  },
  {
   "cell_type": "code",
   "execution_count": null,
   "id": "48b5f454",
   "metadata": {},
   "outputs": [],
   "source": [
    "def get_all_node_ids(node):\n",
    "    '''Функция для получения id узла'''\n",
    "    node_ids = set()\n",
    "    #Функция для проверки отношения узла с link\n",
    "    def collect_ids(node):\n",
    "        if 'link' in node:\n",
    "            return\n",
    "        if 'values' in node:\n",
    "            #Рекурсивный обход дочерних ключей\n",
    "            for key, child in node['values'].items():\n",
    "                node_ids.add(key)\n",
    "                collect_ids(child)\n",
    "    collect_ids(node)\n",
    "    return node_ids"
   ]
  },
  {
   "cell_type": "code",
   "execution_count": null,
   "id": "0c38e312",
   "metadata": {},
   "outputs": [],
   "source": [
    "def main(file_path_yaml, file_path_csv):\n",
    "    '''Функция присвоения данных'''\n",
    "    folders = load_yaml(file_path_yaml)\n",
    "    logs = load_logs(file_path_csv)"
   ]
  }
 ],
 "metadata": {
  "kernelspec": {
   "display_name": "Python 3",
   "language": "python",
   "name": "python3"
  },
  "language_info": {
   "codemirror_mode": {
    "name": "ipython",
    "version": 3
   },
   "file_extension": ".py",
   "mimetype": "text/x-python",
   "name": "python",
   "nbconvert_exporter": "python",
   "pygments_lexer": "ipython3",
   "version": "3.12.4"
  }
 },
 "nbformat": 4,
 "nbformat_minor": 5
}
