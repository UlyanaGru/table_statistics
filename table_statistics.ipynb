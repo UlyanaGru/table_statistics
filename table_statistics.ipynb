{
 "cells": [
  {
   "cell_type": "code",
   "execution_count": 48,
   "id": "cfe4d252",
   "metadata": {},
   "outputs": [
    {
     "data": {
      "text/plain": [
       "True"
      ]
     },
     "execution_count": 48,
     "metadata": {},
     "output_type": "execute_result"
    }
   ],
   "source": [
    "# Используемые библиотеки\n",
    "import yaml\n",
    "import csv\n",
    "from collections import defaultdict\n",
    "import os\n",
    "from dotenv import load_dotenv\n",
    "# Чтение перменных из файла .env\n",
    "path = r'd:\\CodeRun\\table_statistics\\table_statistics\\variables.env'\n",
    "load_dotenv(path) "
   ]
  },
  {
   "cell_type": "code",
   "execution_count": 49,
   "id": "1bf4178c",
   "metadata": {},
   "outputs": [],
   "source": [
    "# Считывание нахождения в директории\n",
    "file_path_yaml = os.getenv(\"file_path_yaml\")\n",
    "file_path_csv = os.getenv(\"file_path_csv\")"
   ]
  },
  {
   "cell_type": "code",
   "execution_count": 50,
   "id": "97c9231a",
   "metadata": {},
   "outputs": [],
   "source": [
    "def load_yaml(file_path):\n",
    "    '''Функция для чтения .yaml'''\n",
    "    with open(file_path, 'r') as file:\n",
    "        return yaml.safe_load(file)"
   ]
  },
  {
   "cell_type": "code",
   "execution_count": 51,
   "id": "99d68a9b",
   "metadata": {},
   "outputs": [],
   "source": [
    "def load_logs(file_path):\n",
    "    '''Функция для чтения .csv'''\n",
    "    logs = []\n",
    "    with open(file_path, 'r') as file:\n",
    "        reader = csv.DictReader(file)\n",
    "        for row in reader:\n",
    "            logs.append(row['node_id'])\n",
    "    return logs"
   ]
  },
  {
   "cell_type": "code",
   "execution_count": 52,
   "id": "662a2b84",
   "metadata": {},
   "outputs": [],
   "source": [
    "def find_statistics_nodes(folders):\n",
    "    '''Функция для поиска по узлу'''\n",
    "    #Мноежство для хранения результатов\n",
    "    statistics_nodes = set()\n",
    "    #Функция для проверки текущей ссылки на link\n",
    "    def traverse(node):\n",
    "        if 'link' in node:\n",
    "            return\n",
    "        if node.get('name') == 'statistics':\n",
    "            statistics_nodes.add(node)\n",
    "            return\n",
    "        #Рекурсивный обход дочерних узлов\n",
    "        for key, child in node.get('values', {}).items():\n",
    "            traverse(child)\n",
    "    #Рекурсивный обход узлов\n",
    "    for key, node in folders.items():\n",
    "        traverse(node)\n",
    "    return statistics_nodes"
   ]
  },
  {
   "cell_type": "code",
   "execution_count": 53,
   "id": "48b5f454",
   "metadata": {},
   "outputs": [],
   "source": [
    "def get_all_node_ids(node):\n",
    "    '''Функция для получения id узла'''\n",
    "    node_ids = set()\n",
    "    #Функция для проверки отношения узла с link\n",
    "    def collect_ids(node):\n",
    "        if 'link' in node:\n",
    "            return\n",
    "        if 'values' in node:\n",
    "            #Рекурсивный обход дочерних ключей\n",
    "            for key, child in node['values'].items():\n",
    "                node_ids.add(key)\n",
    "                collect_ids(child)\n",
    "    collect_ids(node)\n",
    "    return node_ids"
   ]
  },
  {
   "cell_type": "code",
   "execution_count": 54,
   "id": "0c38e312",
   "metadata": {},
   "outputs": [
    {
     "name": "stdout",
     "output_type": "stream",
     "text": [
      "Количество обращений к /home/statistics и подузлам: 118\n"
     ]
    }
   ],
   "source": [
    "folders = load_yaml(file_path_yaml)\n",
    "logs = load_logs(file_path_csv)\n",
    "#Идентификаторы узлов statistics\n",
    "home_statistics_id = '9cae29'\n",
    "tmp_statistics_id = '82cc0d'\n",
    "def get_all_node_ids(node):\n",
    "    \"\"\"Рекурсивно собирает все ID узлов в поддереве\"\"\"\n",
    "    node_ids = set()\n",
    "    if 'values' in node:\n",
    "        for key, child in node['values'].items():\n",
    "            node_ids.add(key)\n",
    "            node_ids.update(get_all_node_ids(child))\n",
    "    return node_ids\n",
    "def find_statistics_node(folders, target_id):\n",
    "    \"\"\"Находит узел statistics по его ID\"\"\"\n",
    "    for key, node in folders.items():\n",
    "        if key == target_id:\n",
    "            return node\n",
    "        if 'values' in node:\n",
    "            found = find_statistics_node(node['values'], target_id)\n",
    "            if found:\n",
    "                return found\n",
    "    return None\n",
    "#Находим узел /home/statistics\n",
    "statistics_node = find_statistics_node(folders, home_statistics_id)\n",
    "if not statistics_node:\n",
    "    print(\"Узел 'statistics' не найден в структуре.\")\n",
    "else:\n",
    "    #Собираем все ID узлов в поддереве statistics\n",
    "    target_ids = get_all_node_ids(statistics_node)\n",
    "    target_ids.add(home_statistics_id)  # Добавляем сам узел statistics\n",
    "    #Подсчет обращений\n",
    "    count = sum(1 for node_id in logs if node_id in target_ids)\n",
    "    print(f\"Количество обращений к /home/statistics и подузлам: {count}\")"
   ]
  }
 ],
 "metadata": {
  "kernelspec": {
   "display_name": "Python 3",
   "language": "python",
   "name": "python3"
  },
  "language_info": {
   "codemirror_mode": {
    "name": "ipython",
    "version": 3
   },
   "file_extension": ".py",
   "mimetype": "text/x-python",
   "name": "python",
   "nbconvert_exporter": "python",
   "pygments_lexer": "ipython3",
   "version": "3.12.4"
  }
 },
 "nbformat": 4,
 "nbformat_minor": 5
}
