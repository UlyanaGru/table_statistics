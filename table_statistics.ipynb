{
 "cells": [
  {
   "cell_type": "code",
   "execution_count": 34,
   "id": "cfe4d252",
   "metadata": {},
   "outputs": [
    {
     "data": {
      "text/plain": [
       "True"
      ]
     },
     "execution_count": 34,
     "metadata": {},
     "output_type": "execute_result"
    }
   ],
   "source": [
    "# Используемые библиотеки\n",
    "import yaml\n",
    "import csv\n",
    "from collections import defaultdict\n",
    "import os\n",
    "from dotenv import load_dotenv\n",
    "# Чтение перменных из файла .env\n",
    "path = r'd:\\CodeRun\\table_statistics\\table_statistics\\variables.env'\n",
    "load_dotenv(path) "
   ]
  },
  {
   "cell_type": "code",
   "execution_count": 35,
   "id": "1bf4178c",
   "metadata": {},
   "outputs": [],
   "source": [
    "# Считывание нахождения в директории\n",
    "file_path_yaml = os.getenv(\"file_path_yaml\")\n",
    "file_path_csv = os.getenv(\"file_path_csv\")"
   ]
  },
  {
   "cell_type": "code",
   "execution_count": 36,
   "id": "97c9231a",
   "metadata": {},
   "outputs": [],
   "source": [
    "def load_yaml(file_path):\n",
    "    '''Функция для чтения .yaml'''\n",
    "    with open(file_path, 'r') as file:\n",
    "        return yaml.safe_load(file)"
   ]
  },
  {
   "cell_type": "code",
   "execution_count": 37,
   "id": "99d68a9b",
   "metadata": {},
   "outputs": [],
   "source": [
    "def load_logs(file_path):\n",
    "    '''Функция для чтения .csv'''\n",
    "    logs = []\n",
    "    with open(file_path, 'r') as file:\n",
    "        reader = csv.DictReader(file)\n",
    "        for row in reader:\n",
    "            logs.append(row['node_id'])\n",
    "    return logs"
   ]
  },
  {
   "cell_type": "code",
   "execution_count": 38,
   "id": "662a2b84",
   "metadata": {},
   "outputs": [],
   "source": [
    "def find_statistics_nodes(folders):\n",
    "    '''Функция для поиска по узлу'''\n",
    "    #Мноежство для хранения результатов\n",
    "    statistics_nodes = set()\n",
    "    #Функция для проверки текущей ссылки на link\n",
    "    def traverse(node):\n",
    "        if 'link' in node:\n",
    "            return\n",
    "        if node.get('name') == 'statistics':\n",
    "            statistics_nodes.add(node)\n",
    "            return\n",
    "        #Рекурсивный обход дочерних узлов\n",
    "        for key, child in node.get('values', {}).items():\n",
    "            traverse(child)\n",
    "    #Рекурсивный обход узлов\n",
    "    for key, node in folders.items():\n",
    "        traverse(node)\n",
    "    return statistics_nodes"
   ]
  },
  {
   "cell_type": "code",
   "execution_count": 39,
   "id": "48b5f454",
   "metadata": {},
   "outputs": [],
   "source": [
    "def get_all_node_ids(node):\n",
    "    '''Функция для получения id узла'''\n",
    "    node_ids = set()\n",
    "    #Функция для проверки отношения узла с link\n",
    "    def collect_ids(node):\n",
    "        if 'link' in node:\n",
    "            return\n",
    "        if 'values' in node:\n",
    "            #Рекурсивный обход дочерних ключей\n",
    "            for key, child in node['values'].items():\n",
    "                node_ids.add(key)\n",
    "                collect_ids(child)\n",
    "    collect_ids(node)\n",
    "    return node_ids"
   ]
  },
  {
   "cell_type": "code",
   "execution_count": 40,
   "id": "0c38e312",
   "metadata": {},
   "outputs": [
    {
     "ename": "AttributeError",
     "evalue": "'NoneType' object has no attribute 'add'",
     "output_type": "error",
     "traceback": [
      "\u001b[1;31m---------------------------------------------------------------------------\u001b[0m",
      "\u001b[1;31mAttributeError\u001b[0m                            Traceback (most recent call last)",
      "Cell \u001b[1;32mIn[40], line 51\u001b[0m\n\u001b[0;32m     49\u001b[0m \u001b[38;5;66;03m#Добавляем сам узел statistics \u001b[39;00m\n\u001b[0;32m     50\u001b[0m target_ids \u001b[38;5;241m=\u001b[39m collect_home_statistics_ids(folders)\n\u001b[1;32m---> 51\u001b[0m \u001b[43mtarget_ids\u001b[49m\u001b[38;5;241;43m.\u001b[39;49m\u001b[43madd\u001b[49m(home_statistics_id)\n\u001b[0;32m     52\u001b[0m \u001b[38;5;66;03m#Подсчет обращений\u001b[39;00m\n\u001b[0;32m     53\u001b[0m count \u001b[38;5;241m=\u001b[39m \u001b[38;5;241m0\u001b[39m\n",
      "\u001b[1;31mAttributeError\u001b[0m: 'NoneType' object has no attribute 'add'"
     ]
    }
   ],
   "source": [
    "folders = load_yaml(file_path_yaml)\n",
    "logs = load_logs(file_path_csv)\n",
    "#Поиск узла 'statistics' в структуре\n",
    "statistics_nodes = set()\n",
    "def find_nodes(node, path):\n",
    "    #Поиск элементов statistics\n",
    "    if 'name' in node and node['name'] == 'statistics':\n",
    "        statistics_nodes.add(node)\n",
    "    #Поиск ссылок на другие пути\n",
    "    if 'values' in node:\n",
    "        for key, child in node['values'].items():\n",
    "            find_nodes(child, path + [key])\n",
    "    #Рекурсия поиска statistics\n",
    "    for key, node in folders.items():\n",
    "        find_nodes(node, [key])\n",
    "    if not statistics_nodes:\n",
    "        print(\"Узел 'statistics' не найден в структуре.\")\n",
    "        return\n",
    "    #Соберем все идентификаторы узлов, принадлежащих 'statistics'\n",
    "    target_ids = set()\n",
    "    for node in statistics_nodes:\n",
    "        target_ids.update(get_all_node_ids(node))\n",
    "        #Добавляем также сам узел 'statistics', если у него есть идентификатор\n",
    "        #В данном случае, у нас нет прямого доступа к идентификатору узла, поэтому нужно иначе\n",
    "        #Пересмотрим подход\n",
    "\n",
    "    #Альтернативный подход: соберем все идентификаторы узлов, которые ведут в 'statistics'\n",
    "    #Для этого нужно знать идентификатор узла 'statistics'\n",
    "    #В sample.yaml 'statistics' находится в двух местах: \n",
    "    #- /home/statistics (идентификатор 9cae29)\n",
    "    #- /tmp/statistics (идентификатор 82cc0d)\n",
    "home_statistics_id = '9cae29'\n",
    "tmp_statistics_id = '82cc0d'\n",
    "#В задаче требуется папка /home/statistics, поэтому берем 9cae29\n",
    "target_ids = set()\n",
    "def collect_home_statistics_ids(folders):\n",
    "    ids = set()\n",
    "    def traverse(node, current_id):\n",
    "        if 'link' in node:\n",
    "            return\n",
    "        if 'values' in node:\n",
    "            for key, child in node['values'].items():\n",
    "                if current_id == home_statistics_id:\n",
    "                    ids.add(key)\n",
    "                    traverse(child, key)\n",
    "        for key, node in folders.items():\n",
    "            traverse(node, key)\n",
    "        return ids\n",
    "#Добавляем сам узел statistics \n",
    "target_ids = collect_home_statistics_ids(folders)\n",
    "target_ids.add(home_statistics_id)\n",
    "#Подсчет обращений\n",
    "count = 0\n",
    "for node_id in logs:\n",
    "    if node_id in target_ids:\n",
    "        count += 1\n",
    "print(count)"
   ]
  }
 ],
 "metadata": {
  "kernelspec": {
   "display_name": "Python 3",
   "language": "python",
   "name": "python3"
  },
  "language_info": {
   "codemirror_mode": {
    "name": "ipython",
    "version": 3
   },
   "file_extension": ".py",
   "mimetype": "text/x-python",
   "name": "python",
   "nbconvert_exporter": "python",
   "pygments_lexer": "ipython3",
   "version": "3.12.4"
  }
 },
 "nbformat": 4,
 "nbformat_minor": 5
}
