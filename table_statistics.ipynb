{
 "cells": [
  {
   "cell_type": "code",
   "execution_count": 1,
   "id": "cfe4d252",
   "metadata": {},
   "outputs": [],
   "source": [
    "import yaml\n",
    "import csv\n",
    "from collections import defaultdict"
   ]
  },
  {
   "cell_type": "code",
   "execution_count": null,
   "id": "1bf4178c",
   "metadata": {},
   "outputs": [],
   "source": [
    "file_path_yaml = r'd:\\CodeRun\\table_statistics\\data\\sample.yaml'\n",
    "file_path_csv = r'd:\\CodeRun\\table_statistics\\data\\logs.csv'"
   ]
  },
  {
   "cell_type": "code",
   "execution_count": 4,
   "id": "97c9231a",
   "metadata": {},
   "outputs": [],
   "source": [
    "def load_yaml(file_path):\n",
    "    with open(file_path, 'r') as file:\n",
    "        return yaml.safe_load(file)"
   ]
  },
  {
   "cell_type": "code",
   "execution_count": null,
   "id": "99d68a9b",
   "metadata": {},
   "outputs": [],
   "source": [
    "def load_logs(file_path):\n",
    "    logs = []\n",
    "    with open(file_path, 'r') as file:\n",
    "        reader = csv.DictReader(file)\n",
    "        for row in reader:\n",
    "            logs.append(row['node_id'])\n",
    "    return logs"
   ]
  }
 ],
 "metadata": {
  "kernelspec": {
   "display_name": "Python 3",
   "language": "python",
   "name": "python3"
  },
  "language_info": {
   "codemirror_mode": {
    "name": "ipython",
    "version": 3
   },
   "file_extension": ".py",
   "mimetype": "text/x-python",
   "name": "python",
   "nbconvert_exporter": "python",
   "pygments_lexer": "ipython3",
   "version": "3.12.4"
  }
 },
 "nbformat": 4,
 "nbformat_minor": 5
}
